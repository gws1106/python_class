{
 "cells": [
  {
   "cell_type": "markdown",
   "id": "6eabad34-0c62-4fe9-a7b6-f55c12ea6a72",
   "metadata": {},
   "source": [
    "### 돌발문제\n",
    "\n",
    "단어 암기 프로그램 만들기\n",
    "\n",
    "1. 암기하려는 단어 갯수를 입력한다\n",
    "   예) 암기하려는 단어 갯수를 입력하세요... 5를 입력받음\n",
    "   \n",
    "2. 암기한 단어를 갯수만큼입력 받는다.\n",
    "   예) 1. 단어를 입력하세요\n",
    "       2. 단어를 입력하세요\n",
    "       \n",
    "       \n",
    "      암기하려는 단어를 모두 입력받았습니다\n",
    "      지금부터 암기하시기 바랍니다\n",
    "       \n",
    "3. 단어를 암기 후 예) 30초 후에 무작위로 단어 갯수 만큼 입력받는다.\n",
    "\n",
    "4. 만일 다 외우지 못하면 Q를 입력하고 종료한다.\n",
    "   예) 다 암기하면 끝... 또는 중간에 못외우면 Q로 끝낸다.\n",
    "   \n",
    "5. 암기한 단어 갯수를 출력한다.\n",
    "   예) 3개 암기하셨습니다"
   ]
  },
  {
   "cell_type": "code",
   "execution_count": 1,
   "id": "937a4cb7-ef73-4ba5-998f-db027f76e4c4",
   "metadata": {},
   "outputs": [
    {
     "name": "stdin",
     "output_type": "stream",
     "text": [
      "암기하려는 단어 갯수를 입력하세요 :  5\n",
      "단어 의미를 공백으로 구분지어 입력하세요 :  apple 사과\n",
      "단어 의미를 공백으로 구분지어 입력하세요 :  banana 바나나\n",
      "단어 의미를 공백으로 구분지어 입력하세요 :  pencil 연필\n",
      "단어 의미를 공백으로 구분지어 입력하세요 :  paper 종이\n",
      "단어 의미를 공백으로 구분지어 입력하세요 :  water 물\n"
     ]
    },
    {
     "name": "stdout",
     "output_type": "stream",
     "text": [
      "\n",
      " 암기하려는 단어를 모두 입력받았습니다\n",
      "          지금부터 암기게임을 시작합니다 \n",
      "\n"
     ]
    },
    {
     "name": "stdin",
     "output_type": "stream",
     "text": [
      "apple의 뜻은? :  사과\n"
     ]
    },
    {
     "name": "stdout",
     "output_type": "stream",
     "text": [
      "정답입니다\n"
     ]
    },
    {
     "name": "stdin",
     "output_type": "stream",
     "text": [
      "banana의 뜻은? :  바나나\n"
     ]
    },
    {
     "name": "stdout",
     "output_type": "stream",
     "text": [
      "정답입니다\n"
     ]
    },
    {
     "name": "stdin",
     "output_type": "stream",
     "text": [
      "pencil의 뜻은? :  연필\n"
     ]
    },
    {
     "name": "stdout",
     "output_type": "stream",
     "text": [
      "정답입니다\n"
     ]
    },
    {
     "name": "stdin",
     "output_type": "stream",
     "text": [
      "paper의 뜻은? :  종이\n"
     ]
    },
    {
     "name": "stdout",
     "output_type": "stream",
     "text": [
      "정답입니다\n"
     ]
    },
    {
     "name": "stdin",
     "output_type": "stream",
     "text": [
      "water의 뜻은? :  물\n"
     ]
    },
    {
     "name": "stdout",
     "output_type": "stream",
     "text": [
      "정답입니다\n",
      "정답 수 : 5\n",
      "틀린 수 : 0\n"
     ]
    }
   ],
   "source": [
    "import random\n",
    "\n",
    "#rand = random.radint(0, n)\n",
    "\n",
    "n = int(input(\"암기하려는 단어 갯수를 입력하세요 : \"))\n",
    "lis = []  # 암기장, 인덱스\n",
    "dic = {}  # 의미, 뜻\n",
    "cnt = 0\n",
    "cnt_succ = 0\n",
    "cnt_fail = 0\n",
    "\n",
    "for i in range(n):\n",
    "    word, mean = input(\"단어 의미를 공백으로 구분지어 입력하세요 : \").split()\n",
    "    dic[word] = mean\n",
    "print()\n",
    "print(\"\"\" 암기하려는 단어를 모두 입력받았습니다\n",
    "          지금부터 암기게임을 시작합니다 \"\"\")\n",
    "print()\n",
    "\n",
    "\n",
    "while cnt < len(dic):\n",
    "    for word, mean in dic.items():\n",
    "        blank = input(f\"{word}의 뜻은? : \")\n",
    "        if dic[word] == blank:\n",
    "            print(\"정답입니다\")\n",
    "            print()\n",
    "            cnt_succ += 1\n",
    "        else:\n",
    "            print(\"틀렸습니다\")\n",
    "            print()\n",
    "            cnt_fail += 1\n",
    "        cnt += 1\n",
    "            \n",
    "\n",
    "\n",
    "print(f\"정답 수 : {cnt_succ}\")\n",
    "print(f\"틀린 수 : {cnt_fail}\")\n",
    "    \n",
    "  \n",
    "    \n"
   ]
  },
  {
   "cell_type": "code",
   "execution_count": null,
   "id": "e92ac3f6-8625-44e3-8ae8-5042020f6913",
   "metadata": {},
   "outputs": [
    {
     "name": "stdout",
     "output_type": "stream",
     "text": [
      "Please enter five words:\n"
     ]
    }
   ],
   "source": [
    "# prompt the user to enter five words\n",
    "print(\"Please enter five words:\")\n",
    "words = []\n",
    "answers = []\n",
    "# loop through and collect input from user\n",
    "for i in range(5):\n",
    "    word = input(f\"Word {i+1}: \")\n",
    "    words.append(word)\n",
    "\n",
    "# display the list of words back to the user\n",
    "print(\"The words you entered are:\")\n",
    "for word in words:\n",
    "    print(word)\n",
    "    \n",
    "    \n",
    "import time\n",
    "\n",
    "\n",
    "\n",
    "print (\"Sleep 5 seconds from now on...\")\n",
    "\n",
    "time.sleep(5)\n",
    "\n",
    "print(\"wake up!\")\n",
    "\n",
    "\n",
    "\n",
    "# loop through and collect input from user\n",
    "for i in range(5):\n",
    "    answer = input(f\"Word {i+1}: \")\n",
    "    answers.append(answer)\n",
    "    \n",
    "    \n",
    "count = 0    \n",
    "for w in words:\n",
    "    for a in answers:\n",
    "        if w == a:\n",
    "            count+=1\n",
    "            break\n",
    "        \n",
    "print(f'you remembered {count} words')"
   ]
  },
  {
   "cell_type": "code",
   "execution_count": null,
   "id": "2e112c65-6ae4-4ce6-ad3c-7c88f043ee87",
   "metadata": {},
   "outputs": [],
   "source": [
    "#import random\n",
    "#rand = random.radint(0, n)\n",
    "\n",
    "n = int(input(\"암기하려는 단어 갯수를 입력하세요 : \"))\n",
    "# lis = []  # 암기장, 인덱스\n",
    "dic = {}  # 의미, 뜻\n",
    "cnt = 0\n",
    "cnt_succ = 0\n",
    "cnt_fail = 0\n",
    "\n",
    "for i in range(n):\n",
    "    word, mean = input(\"단어 의미를 공백으로 구분지어 입력하세요 : \").split()\n",
    "    dic[word] = mean\n",
    "print()\n",
    "print(\"\"\" 암기하려는 단어를 모두 입력받았습니다\n",
    "          지금부터 암기게임을 시작합니다 \"\"\")\n",
    "print()\n",
    "\n",
    "\n",
    "while cnt < len(dic):\n",
    "    for word, mean in dic.items():\n",
    "        blank = input(f\"{word}의 뜻은? : \")\n",
    "        if dic[word] == blank:\n",
    "            print(\"정답입니다\")\n",
    "            print()\n",
    "            cnt_succ += 1\n",
    "        else:\n",
    "            print(\"틀렸습니다\")\n",
    "            print()\n",
    "            cnt_fail += 1\n",
    "        cnt += 1\n",
    "            \n",
    "\n",
    "\n",
    "print(f\"정답 수 : {cnt_succ}\")\n",
    "print(f\"틀린 수 : {cnt_fail}\")\n",
    "    \n",
    "  \n",
    "    "
   ]
  }
 ],
 "metadata": {
  "kernelspec": {
   "display_name": "Python 3 (ipykernel)",
   "language": "python",
   "name": "python3"
  },
  "language_info": {
   "codemirror_mode": {
    "name": "ipython",
    "version": 3
   },
   "file_extension": ".py",
   "mimetype": "text/x-python",
   "name": "python",
   "nbconvert_exporter": "python",
   "pygments_lexer": "ipython3",
   "version": "3.9.13"
  }
 },
 "nbformat": 4,
 "nbformat_minor": 5
}
