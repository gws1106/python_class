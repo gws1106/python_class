{
 "cells": [
  {
   "cell_type": "markdown",
   "id": "6eabad34-0c62-4fe9-a7b6-f55c12ea6a72",
   "metadata": {},
   "source": [
    "### 돌발문제\n",
    "\n",
    "단어 암기 프로그램 만들기\n",
    "\n",
    "1. 암기하려는 단어 갯수를 입력한다\n",
    "   예) 암기하려는 단어 갯수를 입력하세요... 5를 입력받음\n",
    "   \n",
    "2. 암기한 단어를 갯수만큼입력 받는다.\n",
    "   예) 1. 단어를 입력하세요\n",
    "       2. 단어를 입력하세요\n",
    "       \n",
    "       \n",
    "      암기하려는 단어를 모두 입력받았습니다\n",
    "      지금부터 암기하시기 바랍니다\n",
    "       \n",
    "3. 단어를 암기 후 예) 30초 후에 무작위로 단어 갯수 만큼 입력받는다.\n",
    "\n",
    "4. 만일 다 외우지 못하면 Q를 입력하고 종료한다.\n",
    "   예) 다 암기하면 끝... 또는 중간에 못외우면 Q로 끝낸다.\n",
    "   \n",
    "5. 암기한 단어 갯수를 출력한다.\n",
    "   예) 3개 암기하셨습니다"
   ]
  },
  {
   "cell_type": "code",
   "execution_count": 1,
   "id": "937a4cb7-ef73-4ba5-998f-db027f76e4c4",
   "metadata": {},
   "outputs": [
    {
     "name": "stdin",
     "output_type": "stream",
     "text": [
      "암기하려는 단어 갯수를 입력하세요 :  5\n",
      "단어 의미를 공백으로 구분지어 입력하세요 :  apple 사과\n",
      "단어 의미를 공백으로 구분지어 입력하세요 :  banana 바나나\n",
      "단어 의미를 공백으로 구분지어 입력하세요 :  pencil 연필\n",
      "단어 의미를 공백으로 구분지어 입력하세요 :  paper 종이\n",
      "단어 의미를 공백으로 구분지어 입력하세요 :  water 물\n"
     ]
    },
    {
     "name": "stdout",
     "output_type": "stream",
     "text": [
      "\n",
      " 암기하려는 단어를 모두 입력받았습니다\n",
      "          지금부터 암기게임을 시작합니다 \n",
      "\n"
     ]
    },
    {
     "name": "stdin",
     "output_type": "stream",
     "text": [
      "apple의 뜻은? :  사과\n"
     ]
    },
    {
     "name": "stdout",
     "output_type": "stream",
     "text": [
      "정답입니다\n"
     ]
    },
    {
     "name": "stdin",
     "output_type": "stream",
     "text": [
      "banana의 뜻은? :  바나나\n"
     ]
    },
    {
     "name": "stdout",
     "output_type": "stream",
     "text": [
      "정답입니다\n"
     ]
    },
    {
     "name": "stdin",
     "output_type": "stream",
     "text": [
      "pencil의 뜻은? :  연필\n"
     ]
    },
    {
     "name": "stdout",
     "output_type": "stream",
     "text": [
      "정답입니다\n"
     ]
    },
    {
     "name": "stdin",
     "output_type": "stream",
     "text": [
      "paper의 뜻은? :  종이\n"
     ]
    },
    {
     "name": "stdout",
     "output_type": "stream",
     "text": [
      "정답입니다\n"
     ]
    },
    {
     "name": "stdin",
     "output_type": "stream",
     "text": [
      "water의 뜻은? :  물\n"
     ]
    },
    {
     "name": "stdout",
     "output_type": "stream",
     "text": [
      "정답입니다\n",
      "정답 수 : 5\n",
      "틀린 수 : 0\n"
     ]
    }
   ],
   "source": [
    "import random\n",
    "\n",
    "#rand = random.radint(0, n)\n",
    "\n",
    "n = int(input(\"암기하려는 단어 갯수를 입력하세요 : \"))\n",
    "lis = []  # 암기장, 인덱스\n",
    "dic = {}  # 의미, 뜻\n",
    "cnt = 0\n",
    "cnt_succ = 0\n",
    "cnt_fail = 0\n",
    "\n",
    "for i in range(n):\n",
    "    word, mean = input(\"단어 의미를 공백으로 구분지어 입력하세요 : \").split()\n",
    "    dic[word] = mean\n",
    "print()\n",
    "print(\"\"\" 암기하려는 단어를 모두 입력받았습니다\n",
    "          지금부터 암기게임을 시작합니다 \"\"\")\n",
    "print()\n",
    "\n",
    "\n",
    "while cnt < len(dic):\n",
    "    for word, mean in dic.items():\n",
    "        blank = input(f\"{word}의 뜻은? : \")\n",
    "        if dic[word] == blank:\n",
    "            print(\"정답입니다\")\n",
    "            print()\n",
    "            cnt_succ += 1\n",
    "        else:\n",
    "            print(\"틀렸습니다\")\n",
    "            print()\n",
    "            cnt_fail += 1\n",
    "        cnt += 1\n",
    "            \n",
    "\n",
    "\n",
    "print(f\"정답 수 : {cnt_succ}\")\n",
    "print(f\"틀린 수 : {cnt_fail}\")\n",
    "    \n",
    "  \n",
    "    \n"
   ]
  },
  {
   "cell_type": "code",
   "execution_count": 2,
   "id": "e92ac3f6-8625-44e3-8ae8-5042020f6913",
   "metadata": {},
   "outputs": [
    {
     "name": "stdout",
     "output_type": "stream",
     "text": [
      "Please enter five words:\n"
     ]
    },
    {
     "ename": "KeyboardInterrupt",
     "evalue": "Interrupted by user",
     "output_type": "error",
     "traceback": [
      "\u001b[1;31m---------------------------------------------------------------------------\u001b[0m",
      "\u001b[1;31mKeyboardInterrupt\u001b[0m                         Traceback (most recent call last)",
      "\u001b[1;32m~\\AppData\\Local\\Temp\\ipykernel_29912\\1318012370.py\u001b[0m in \u001b[0;36m<module>\u001b[1;34m\u001b[0m\n\u001b[0;32m      5\u001b[0m \u001b[1;31m# loop through and collect input from user\u001b[0m\u001b[1;33m\u001b[0m\u001b[1;33m\u001b[0m\u001b[0m\n\u001b[0;32m      6\u001b[0m \u001b[1;32mfor\u001b[0m \u001b[0mi\u001b[0m \u001b[1;32min\u001b[0m \u001b[0mrange\u001b[0m\u001b[1;33m(\u001b[0m\u001b[1;36m5\u001b[0m\u001b[1;33m)\u001b[0m\u001b[1;33m:\u001b[0m\u001b[1;33m\u001b[0m\u001b[1;33m\u001b[0m\u001b[0m\n\u001b[1;32m----> 7\u001b[1;33m     \u001b[0mword\u001b[0m \u001b[1;33m=\u001b[0m \u001b[0minput\u001b[0m\u001b[1;33m(\u001b[0m\u001b[1;34mf\"Word {i+1}: \"\u001b[0m\u001b[1;33m)\u001b[0m\u001b[1;33m\u001b[0m\u001b[1;33m\u001b[0m\u001b[0m\n\u001b[0m\u001b[0;32m      8\u001b[0m     \u001b[0mwords\u001b[0m\u001b[1;33m.\u001b[0m\u001b[0mappend\u001b[0m\u001b[1;33m(\u001b[0m\u001b[0mword\u001b[0m\u001b[1;33m)\u001b[0m\u001b[1;33m\u001b[0m\u001b[1;33m\u001b[0m\u001b[0m\n\u001b[0;32m      9\u001b[0m \u001b[1;33m\u001b[0m\u001b[0m\n",
      "\u001b[1;32mC:\\ProgramData\\Anaconda3\\lib\\site-packages\\ipykernel\\kernelbase.py\u001b[0m in \u001b[0;36mraw_input\u001b[1;34m(self, prompt)\u001b[0m\n\u001b[0;32m   1175\u001b[0m                 \u001b[1;34m\"raw_input was called, but this frontend does not support input requests.\"\u001b[0m\u001b[1;33m\u001b[0m\u001b[1;33m\u001b[0m\u001b[0m\n\u001b[0;32m   1176\u001b[0m             )\n\u001b[1;32m-> 1177\u001b[1;33m         return self._input_request(\n\u001b[0m\u001b[0;32m   1178\u001b[0m             \u001b[0mstr\u001b[0m\u001b[1;33m(\u001b[0m\u001b[0mprompt\u001b[0m\u001b[1;33m)\u001b[0m\u001b[1;33m,\u001b[0m\u001b[1;33m\u001b[0m\u001b[1;33m\u001b[0m\u001b[0m\n\u001b[0;32m   1179\u001b[0m             \u001b[0mself\u001b[0m\u001b[1;33m.\u001b[0m\u001b[0m_parent_ident\u001b[0m\u001b[1;33m[\u001b[0m\u001b[1;34m\"shell\"\u001b[0m\u001b[1;33m]\u001b[0m\u001b[1;33m,\u001b[0m\u001b[1;33m\u001b[0m\u001b[1;33m\u001b[0m\u001b[0m\n",
      "\u001b[1;32mC:\\ProgramData\\Anaconda3\\lib\\site-packages\\ipykernel\\kernelbase.py\u001b[0m in \u001b[0;36m_input_request\u001b[1;34m(self, prompt, ident, parent, password)\u001b[0m\n\u001b[0;32m   1217\u001b[0m             \u001b[1;32mexcept\u001b[0m \u001b[0mKeyboardInterrupt\u001b[0m\u001b[1;33m:\u001b[0m\u001b[1;33m\u001b[0m\u001b[1;33m\u001b[0m\u001b[0m\n\u001b[0;32m   1218\u001b[0m                 \u001b[1;31m# re-raise KeyboardInterrupt, to truncate traceback\u001b[0m\u001b[1;33m\u001b[0m\u001b[1;33m\u001b[0m\u001b[0m\n\u001b[1;32m-> 1219\u001b[1;33m                 \u001b[1;32mraise\u001b[0m \u001b[0mKeyboardInterrupt\u001b[0m\u001b[1;33m(\u001b[0m\u001b[1;34m\"Interrupted by user\"\u001b[0m\u001b[1;33m)\u001b[0m \u001b[1;32mfrom\u001b[0m \u001b[1;32mNone\u001b[0m\u001b[1;33m\u001b[0m\u001b[1;33m\u001b[0m\u001b[0m\n\u001b[0m\u001b[0;32m   1220\u001b[0m             \u001b[1;32mexcept\u001b[0m \u001b[0mException\u001b[0m\u001b[1;33m:\u001b[0m\u001b[1;33m\u001b[0m\u001b[1;33m\u001b[0m\u001b[0m\n\u001b[0;32m   1221\u001b[0m                 \u001b[0mself\u001b[0m\u001b[1;33m.\u001b[0m\u001b[0mlog\u001b[0m\u001b[1;33m.\u001b[0m\u001b[0mwarning\u001b[0m\u001b[1;33m(\u001b[0m\u001b[1;34m\"Invalid Message:\"\u001b[0m\u001b[1;33m,\u001b[0m \u001b[0mexc_info\u001b[0m\u001b[1;33m=\u001b[0m\u001b[1;32mTrue\u001b[0m\u001b[1;33m)\u001b[0m\u001b[1;33m\u001b[0m\u001b[1;33m\u001b[0m\u001b[0m\n",
      "\u001b[1;31mKeyboardInterrupt\u001b[0m: Interrupted by user"
     ]
    }
   ],
   "source": [
    "# prompt the user to enter five words\n",
    "print(\"Please enter five words:\")\n",
    "words = []\n",
    "answers = []\n",
    "# loop through and collect input from user\n",
    "for i in range(5):\n",
    "    word = input(f\"Word {i+1}: \")\n",
    "    words.append(word)\n",
    "\n",
    "# display the list of words back to the user\n",
    "print(\"The words you entered are:\")\n",
    "for word in words:\n",
    "    print(word)\n",
    "    \n",
    "    \n",
    "import time\n",
    "\n",
    "\n",
    "\n",
    "print (\"Sleep 5 seconds from now on...\")\n",
    "\n",
    "time.sleep(5)\n",
    "\n",
    "print(\"wake up!\")\n",
    "\n",
    "\n",
    "\n",
    "# loop through and collect input from user\n",
    "for i in range(5):\n",
    "    answer = input(f\"Word {i+1}: \")\n",
    "    answers.append(answer)\n",
    "    \n",
    "    \n",
    "count = 0    \n",
    "for w in words:\n",
    "    for a in answers:\n",
    "        if w == a:\n",
    "            count+=1\n",
    "            break\n",
    "        \n",
    "print(f'you remembered {count} words')"
   ]
  },
  {
   "cell_type": "code",
   "execution_count": 4,
   "id": "2e112c65-6ae4-4ce6-ad3c-7c88f043ee87",
   "metadata": {},
   "outputs": [
    {
     "name": "stdin",
     "output_type": "stream",
     "text": [
      "암기하려는 단어 갯수를 입력하세요 :  2\n",
      "단어 의미를 공백으로 구분지어 입력하세요 :  apple 사과\n",
      "단어 의미를 공백으로 구분지어 입력하세요 :  pencil 연필\n"
     ]
    },
    {
     "name": "stdout",
     "output_type": "stream",
     "text": [
      "\n",
      " 암기하려는 단어를 모두 입력받았습니다\n",
      "          지금부터 암기게임을 시작합니다 \n",
      "1\n",
      "2\n",
      "3\n",
      "4\n",
      "5\n",
      "6\n",
      "7\n",
      "8\n",
      "9\n",
      "10\n",
      "\n"
     ]
    },
    {
     "ename": "KeyboardInterrupt",
     "evalue": "Interrupted by user",
     "output_type": "error",
     "traceback": [
      "\u001b[1;31m---------------------------------------------------------------------------\u001b[0m",
      "\u001b[1;31mKeyboardInterrupt\u001b[0m                         Traceback (most recent call last)",
      "\u001b[1;32m~\\AppData\\Local\\Temp\\ipykernel_29912\\2487988711.py\u001b[0m in \u001b[0;36m<module>\u001b[1;34m\u001b[0m\n\u001b[0;32m     24\u001b[0m \u001b[1;32mwhile\u001b[0m \u001b[0mcnt\u001b[0m \u001b[1;33m<\u001b[0m \u001b[0mlen\u001b[0m\u001b[1;33m(\u001b[0m\u001b[0mdic\u001b[0m\u001b[1;33m)\u001b[0m\u001b[1;33m:\u001b[0m\u001b[1;33m\u001b[0m\u001b[1;33m\u001b[0m\u001b[0m\n\u001b[0;32m     25\u001b[0m     \u001b[1;32mfor\u001b[0m \u001b[0mword\u001b[0m \u001b[1;32min\u001b[0m \u001b[0mdic\u001b[0m\u001b[1;33m.\u001b[0m\u001b[0mkeys\u001b[0m\u001b[1;33m(\u001b[0m\u001b[1;33m)\u001b[0m\u001b[1;33m:\u001b[0m\u001b[1;33m\u001b[0m\u001b[1;33m\u001b[0m\u001b[0m\n\u001b[1;32m---> 26\u001b[1;33m         \u001b[0mblank\u001b[0m \u001b[1;33m=\u001b[0m \u001b[0minput\u001b[0m\u001b[1;33m(\u001b[0m\u001b[1;34mf\"{word}의 뜻은? : \"\u001b[0m\u001b[1;33m)\u001b[0m\u001b[1;33m\u001b[0m\u001b[1;33m\u001b[0m\u001b[0m\n\u001b[0m\u001b[0;32m     27\u001b[0m         \u001b[1;32mif\u001b[0m \u001b[0mdic\u001b[0m\u001b[1;33m[\u001b[0m\u001b[0mword\u001b[0m\u001b[1;33m]\u001b[0m \u001b[1;33m==\u001b[0m \u001b[0mblank\u001b[0m\u001b[1;33m:\u001b[0m\u001b[1;33m\u001b[0m\u001b[1;33m\u001b[0m\u001b[0m\n\u001b[0;32m     28\u001b[0m             \u001b[0mprint\u001b[0m\u001b[1;33m(\u001b[0m\u001b[1;34m\"정답입니다\"\u001b[0m\u001b[1;33m)\u001b[0m\u001b[1;33m\u001b[0m\u001b[1;33m\u001b[0m\u001b[0m\n",
      "\u001b[1;32mC:\\ProgramData\\Anaconda3\\lib\\site-packages\\ipykernel\\kernelbase.py\u001b[0m in \u001b[0;36mraw_input\u001b[1;34m(self, prompt)\u001b[0m\n\u001b[0;32m   1175\u001b[0m                 \u001b[1;34m\"raw_input was called, but this frontend does not support input requests.\"\u001b[0m\u001b[1;33m\u001b[0m\u001b[1;33m\u001b[0m\u001b[0m\n\u001b[0;32m   1176\u001b[0m             )\n\u001b[1;32m-> 1177\u001b[1;33m         return self._input_request(\n\u001b[0m\u001b[0;32m   1178\u001b[0m             \u001b[0mstr\u001b[0m\u001b[1;33m(\u001b[0m\u001b[0mprompt\u001b[0m\u001b[1;33m)\u001b[0m\u001b[1;33m,\u001b[0m\u001b[1;33m\u001b[0m\u001b[1;33m\u001b[0m\u001b[0m\n\u001b[0;32m   1179\u001b[0m             \u001b[0mself\u001b[0m\u001b[1;33m.\u001b[0m\u001b[0m_parent_ident\u001b[0m\u001b[1;33m[\u001b[0m\u001b[1;34m\"shell\"\u001b[0m\u001b[1;33m]\u001b[0m\u001b[1;33m,\u001b[0m\u001b[1;33m\u001b[0m\u001b[1;33m\u001b[0m\u001b[0m\n",
      "\u001b[1;32mC:\\ProgramData\\Anaconda3\\lib\\site-packages\\ipykernel\\kernelbase.py\u001b[0m in \u001b[0;36m_input_request\u001b[1;34m(self, prompt, ident, parent, password)\u001b[0m\n\u001b[0;32m   1217\u001b[0m             \u001b[1;32mexcept\u001b[0m \u001b[0mKeyboardInterrupt\u001b[0m\u001b[1;33m:\u001b[0m\u001b[1;33m\u001b[0m\u001b[1;33m\u001b[0m\u001b[0m\n\u001b[0;32m   1218\u001b[0m                 \u001b[1;31m# re-raise KeyboardInterrupt, to truncate traceback\u001b[0m\u001b[1;33m\u001b[0m\u001b[1;33m\u001b[0m\u001b[0m\n\u001b[1;32m-> 1219\u001b[1;33m                 \u001b[1;32mraise\u001b[0m \u001b[0mKeyboardInterrupt\u001b[0m\u001b[1;33m(\u001b[0m\u001b[1;34m\"Interrupted by user\"\u001b[0m\u001b[1;33m)\u001b[0m \u001b[1;32mfrom\u001b[0m \u001b[1;32mNone\u001b[0m\u001b[1;33m\u001b[0m\u001b[1;33m\u001b[0m\u001b[0m\n\u001b[0m\u001b[0;32m   1220\u001b[0m             \u001b[1;32mexcept\u001b[0m \u001b[0mException\u001b[0m\u001b[1;33m:\u001b[0m\u001b[1;33m\u001b[0m\u001b[1;33m\u001b[0m\u001b[0m\n\u001b[0;32m   1221\u001b[0m                 \u001b[0mself\u001b[0m\u001b[1;33m.\u001b[0m\u001b[0mlog\u001b[0m\u001b[1;33m.\u001b[0m\u001b[0mwarning\u001b[0m\u001b[1;33m(\u001b[0m\u001b[1;34m\"Invalid Message:\"\u001b[0m\u001b[1;33m,\u001b[0m \u001b[0mexc_info\u001b[0m\u001b[1;33m=\u001b[0m\u001b[1;32mTrue\u001b[0m\u001b[1;33m)\u001b[0m\u001b[1;33m\u001b[0m\u001b[1;33m\u001b[0m\u001b[0m\n",
      "\u001b[1;31mKeyboardInterrupt\u001b[0m: Interrupted by user"
     ]
    }
   ],
   "source": [
    "# 리스트로 구현한 단어암기 선생님버전\n",
    "#import random\n",
    "#rand = random.radint(0, n)\n",
    "import time\n",
    "\n",
    "n = int(input(\"암기하려는 단어 갯수를 입력하세요 : \"))\n",
    "# lis = []  # 암기장, 인덱스\n",
    "dic = {}  # 의미, 뜻\n",
    "cnt = 0   # 반복문 종료를 위한 카운트\n",
    "cnt_succ = 0  # 정답 수\n",
    "cnt_fail = 0  # 오답 수\n",
    "\n",
    "for i in range(n):\n",
    "    word, mean = input(\"단어 의미를 공백으로 구분지어 입력하세요 : \").split()\n",
    "    dic[word] = mean\n",
    "print()\n",
    "print(\"\"\" 암기하려는 단어를 모두 입력받았습니다\n",
    "          10초후에 암기게임을 시작합니다 \"\"\")\n",
    "for i in range(10, 0, -1):\n",
    "    print(i+1)\n",
    "    time.sleep(1)\n",
    "print()\n",
    "\n",
    "\n",
    "while cnt < len(dic):\n",
    "    for word in dic.keys():\n",
    "        blank = input(f\"{word}의 뜻은? : \")\n",
    "        if dic[word] == blank:\n",
    "            print(\"정답입니다\")\n",
    "            print()\n",
    "            cnt_succ += 1\n",
    "        else:\n",
    "            print(\"틀렸습니다\")\n",
    "            print()\n",
    "            cnt_fail += 1\n",
    "        cnt += 1\n",
    "            \n",
    "\n",
    "\n",
    "print(f\"정답 수 : {cnt_succ}\")\n",
    "print(f\"틀린 수 : {cnt_fail}\")\n",
    "    \n",
    "  \n",
    "    "
   ]
  },
  {
   "cell_type": "code",
   "execution_count": null,
   "id": "7eff4e15-f3bc-427e-8cdf-f17541ce078e",
   "metadata": {},
   "outputs": [],
   "source": [
    "# 딕셔너리로 구현한 선생님 버전\n",
    "# initialize an empty dictionary\n",
    "my_dict = {}\n",
    "answers = []\n",
    "# get user input for word and meaning\n",
    "for i in range(5):\n",
    "    word = input(\"Enter a word: \")\n",
    "    meaning = ''; #input(\"Enter its meaning: \")\n",
    "    # add the word and meaning to the dictionary\n",
    "    my_dict[word] = meaning\n",
    "    \n",
    "import time    \n",
    "print (\"Sleep 5 seconds from now on...\")\n",
    "\n",
    "time.sleep(5)\n",
    "\n",
    "print(\"wake up!\")\n",
    "\n",
    "\n",
    "# loop through and collect input from user\n",
    "for i in range(5):\n",
    "    answer = input(f\"Word {i+1}: \")\n",
    "    answers.append(answer)\n",
    "    \n",
    "    \n",
    "count = 0    \n",
    "  \n",
    "for answer in answers:\n",
    "    if answer in my_dict:\n",
    "        count += 1\n",
    "\n",
    "\n",
    "print(f'you remembered {count} words')"
   ]
  },
  {
   "cell_type": "code",
   "execution_count": 5,
   "id": "ba743a42-3b26-40d9-b381-cf1b730f3c22",
   "metadata": {},
   "outputs": [
    {
     "name": "stdout",
     "output_type": "stream",
     "text": [
      "{1, 2, 3, 4, 5, 7}\n"
     ]
    }
   ],
   "source": [
    "lis = [2, 4, 5, 5, 1, 3, 7]\n",
    "\n",
    "print(set(lis))"
   ]
  },
  {
   "cell_type": "code",
   "execution_count": 6,
   "id": "f91e2d5b-187e-4e4d-89cb-ea2b4c52b253",
   "metadata": {},
   "outputs": [
    {
     "name": "stdout",
     "output_type": "stream",
     "text": [
      "거짓\n"
     ]
    }
   ],
   "source": [
    "if 0:\n",
    "    print(\"참\")\n",
    "else:\n",
    "    print(\"거짓\")"
   ]
  },
  {
   "cell_type": "code",
   "execution_count": 7,
   "id": "7ab76e70-a4dd-4a81-ae8e-d74eca039a8e",
   "metadata": {},
   "outputs": [
    {
     "name": "stdout",
     "output_type": "stream",
     "text": [
      "참\n"
     ]
    }
   ],
   "source": [
    "if [1,4,5,6]:\n",
    "    print(\"참\")\n",
    "else:\n",
    "    print(\"거짓\")"
   ]
  },
  {
   "cell_type": "markdown",
   "id": "b1aeeb01-ac9d-4320-8365-9dde0ae9e43f",
   "metadata": {},
   "source": [
    "### Q1 p.112"
   ]
  },
  {
   "cell_type": "code",
   "execution_count": 10,
   "id": "321831f0-83aa-4810-90ce-b6c376570d9e",
   "metadata": {},
   "outputs": [
    {
     "name": "stdout",
     "output_type": "stream",
     "text": [
      "홍길동 씨의 평균 점수는 : 70.0\n"
     ]
    }
   ],
   "source": [
    "dic = {'국어' : 80, '영어' : 75, '수학' : 55}\n",
    "sum_ = 0\n",
    "\n",
    "for key in dic.keys():\n",
    "    sum_ += dic[key]\n",
    "    \n",
    "print(f\"홍길동 씨의 평균 점수는 : {sum_ / len(dic)}\")"
   ]
  },
  {
   "cell_type": "markdown",
   "id": "0a80e2ec-b4c8-42eb-a603-31366dd2367d",
   "metadata": {},
   "source": [
    "### Q2 "
   ]
  },
  {
   "cell_type": "code",
   "execution_count": 11,
   "id": "85bee933-8bf1-4164-92d1-3f5504b90f4f",
   "metadata": {},
   "outputs": [
    {
     "name": "stdin",
     "output_type": "stream",
     "text": [
      " 13\n"
     ]
    },
    {
     "name": "stdout",
     "output_type": "stream",
     "text": [
      "홀수\n"
     ]
    }
   ],
   "source": [
    "n = int(input(\"숫자를 입력하세요 : \"))\n",
    "\n",
    "if n % 2 == 0:\n",
    "    print(\"짝수\")\n",
    "else:\n",
    "    print(\"홀수\")"
   ]
  },
  {
   "cell_type": "markdown",
   "id": "c62d742e-1a71-4842-972b-17a8d9fc881a",
   "metadata": {},
   "source": [
    "### Q3"
   ]
  },
  {
   "cell_type": "code",
   "execution_count": 12,
   "id": "218a774f-e414-48f0-a6b8-c165c00b031a",
   "metadata": {},
   "outputs": [
    {
     "name": "stdout",
     "output_type": "stream",
     "text": [
      "881120\n",
      "1068234\n"
     ]
    }
   ],
   "source": [
    "pin = \"881120-1068234\"\n",
    "yyyymmdd = pin[0:6]\n",
    "num = pin[7:]\n",
    "print(yyyymmdd)\n",
    "print(num)"
   ]
  },
  {
   "cell_type": "markdown",
   "id": "5f928d3a-a280-46c4-a1ef-d01bc6e4c88a",
   "metadata": {},
   "source": [
    "### Q4"
   ]
  },
  {
   "cell_type": "code",
   "execution_count": 13,
   "id": "1cd4ffea-2262-4496-aa9d-058d02367f5b",
   "metadata": {},
   "outputs": [
    {
     "name": "stdout",
     "output_type": "stream",
     "text": [
      "1\n"
     ]
    }
   ],
   "source": [
    "pin = \"881120-1068234\"\n",
    "print(pin[7])"
   ]
  },
  {
   "cell_type": "markdown",
   "id": "9549c442-6baf-44da-be33-55bbab57c1f5",
   "metadata": {},
   "source": [
    "### Q5\n"
   ]
  },
  {
   "cell_type": "code",
   "execution_count": 14,
   "id": "9fa55ff9-1f41-4335-a469-87a73cbba53f",
   "metadata": {},
   "outputs": [
    {
     "name": "stdout",
     "output_type": "stream",
     "text": [
      "a#b#c#d\n"
     ]
    }
   ],
   "source": [
    "a = \"a:b:c:d\"\n",
    "b = a.replace(\":\", \"#\")  #문자열.replace(\"바꾸고 싶은 단어\", \"바꿀 단어\")\n",
    "print(b)"
   ]
  },
  {
   "cell_type": "markdown",
   "id": "39fcad84-fba8-48d0-b976-3f05fc190dc1",
   "metadata": {},
   "source": [
    "### Q6"
   ]
  },
  {
   "cell_type": "code",
   "execution_count": 15,
   "id": "ef39eddc-7469-466b-a5c9-70fb54ecb0ed",
   "metadata": {},
   "outputs": [
    {
     "name": "stdout",
     "output_type": "stream",
     "text": [
      "[5, 4, 3, 2, 1]\n"
     ]
    }
   ],
   "source": [
    "a = [1, 3, 5, 4, 2]\n",
    "a.sort()\n",
    "a.reverse()\n",
    "print(a)"
   ]
  },
  {
   "cell_type": "markdown",
   "id": "e1391846-482b-4d4c-882e-16c147f881d3",
   "metadata": {},
   "source": [
    "### Q7"
   ]
  },
  {
   "cell_type": "code",
   "execution_count": 17,
   "id": "fece3e47-daec-41e7-b9af-c21e89bab658",
   "metadata": {},
   "outputs": [
    {
     "name": "stdout",
     "output_type": "stream",
     "text": [
      "Life is too short\n"
     ]
    }
   ],
   "source": [
    "a = ['Life', 'is', 'too', 'short']\n",
    "result = \" \".join(a)   # \"삽입할 문장\".join(리스트, 문자열, 튜플 등)\n",
    "print(result)"
   ]
  },
  {
   "cell_type": "markdown",
   "id": "abba129b-8085-40f2-ae1f-3230eba0942c",
   "metadata": {},
   "source": [
    "### Q8"
   ]
  },
  {
   "cell_type": "code",
   "execution_count": 18,
   "id": "94f48700-979c-468c-85f1-2ae07b4b344d",
   "metadata": {},
   "outputs": [
    {
     "name": "stdout",
     "output_type": "stream",
     "text": [
      "(1, 2, 3, 4)\n"
     ]
    }
   ],
   "source": [
    "a = (1, 2, 3)\n",
    "a = a + (4,)\n",
    "print(a)"
   ]
  },
  {
   "cell_type": "markdown",
   "id": "86eb4c57-4afd-427f-b867-96c2c42f058e",
   "metadata": {},
   "source": [
    "### Q9"
   ]
  },
  {
   "cell_type": "code",
   "execution_count": 20,
   "id": "4783a1c2-7d38-4186-bf43-81d454d2d5ce",
   "metadata": {},
   "outputs": [
    {
     "name": "stdout",
     "output_type": "stream",
     "text": [
      "{'name': 'python', ('a',): 'python', 250: 'python'}\n"
     ]
    }
   ],
   "source": [
    "a = dict()\n",
    "\n",
    "a['name'] = 'python'\n",
    "a[('a',)] = 'python'\n",
    "#a[[1]] = 'python'\n",
    "a[250] = 'python'\n",
    "\n",
    "print(a)\n",
    "\n",
    "### 정답 3번 - 키값으로 리스트를 사용할 수 없다\n",
    "### 리스트는 변하는 수정이 가능하다 키 값에는 변하지 않는 값만 사용할 수 있다"
   ]
  },
  {
   "cell_type": "markdown",
   "id": "f6b78d6e-e3ec-498d-afd3-fd8e864a6aa7",
   "metadata": {},
   "source": [
    "### Q10\n"
   ]
  },
  {
   "cell_type": "code",
   "execution_count": 21,
   "id": "e22d0d59-4fe9-4570-9938-8783323c1065",
   "metadata": {},
   "outputs": [
    {
     "name": "stdout",
     "output_type": "stream",
     "text": [
      "{'A': 90, 'C': 70}\n",
      "80\n"
     ]
    }
   ],
   "source": [
    "a = {'A':90, 'B':80, 'C':70}\n",
    "result = a.pop('B')\n",
    "print(a)\n",
    "print(result)"
   ]
  },
  {
   "cell_type": "markdown",
   "id": "1aa88f0f-b4f1-4818-8f4a-3f4b98466a04",
   "metadata": {},
   "source": [
    "### Q11"
   ]
  },
  {
   "cell_type": "code",
   "execution_count": 22,
   "id": "44527ff6-7fc2-4835-9511-e289cca24c49",
   "metadata": {},
   "outputs": [
    {
     "name": "stdout",
     "output_type": "stream",
     "text": [
      "[1, 2, 3, 4, 5]\n"
     ]
    }
   ],
   "source": [
    "a = [1, 1, 1, 2, 2, 3, 3, 3, 4, 4, 5]\n",
    "aSet = set(a)\n",
    "b = list(aSet)\n",
    "print(b)"
   ]
  },
  {
   "cell_type": "markdown",
   "id": "d0e17882-a4b1-4d01-88f3-d9292f76c1ff",
   "metadata": {},
   "source": [
    "### Q12"
   ]
  },
  {
   "cell_type": "code",
   "execution_count": 24,
   "id": "e05cab18-bb70-4ea0-b673-188c747a9635",
   "metadata": {},
   "outputs": [
    {
     "name": "stdout",
     "output_type": "stream",
     "text": [
      "[1, 4, 3]\n",
      "[1, 2, 3]\n",
      "[1, 2, 3]\n"
     ]
    }
   ],
   "source": [
    "### 답은 4이다\n",
    "\n",
    "a = b = [1, 2, 3]   #a와 b는 완전히 동일하다 -> 변수 a와 b가 가리키는 대상이 동일하므로 a값이 바뀌면 b값도 따라서 바뀐다\n",
    "a[1] = 4\n",
    "print(b)\n",
    "\n",
    "#b[1] = 2\n",
    "#print(a)\n",
    "#print(b)"
   ]
  }
 ],
 "metadata": {
  "kernelspec": {
   "display_name": "Python 3 (ipykernel)",
   "language": "python",
   "name": "python3"
  },
  "language_info": {
   "codemirror_mode": {
    "name": "ipython",
    "version": 3
   },
   "file_extension": ".py",
   "mimetype": "text/x-python",
   "name": "python",
   "nbconvert_exporter": "python",
   "pygments_lexer": "ipython3",
   "version": "3.9.13"
  }
 },
 "nbformat": 4,
 "nbformat_minor": 5
}
